{
 "cells": [
  {
   "cell_type": "code",
   "execution_count": null,
   "id": "7606eadd",
   "metadata": {},
   "outputs": [],
   "source": [
    "1.\n",
    "\n",
    "=   km=int(input(\"Enter the kms:\"))\n",
    "    miles=km*0.62137119\n",
    "    print(\"Miles:\",miles)"
   ]
  },
  {
   "cell_type": "code",
   "execution_count": null,
   "id": "6446509d",
   "metadata": {},
   "outputs": [],
   "source": [
    "2.\n",
    "\n",
    "=   c=int(input(\"Enter celsius:\"))\n",
    "    f = c * (9/5) + 32\n",
    "    print(\"Fahrenheit:\",f)"
   ]
  },
  {
   "cell_type": "code",
   "execution_count": null,
   "id": "ae448cbc",
   "metadata": {},
   "outputs": [],
   "source": [
    "3.\n",
    "\n",
    "=   import calendar  \n",
    "    yy = int(input(\"Enter year: \"))  \n",
    "    mm = int(input(\"Enter month: \"))  \n",
    "    print(calendar.month(yy,mm)) "
   ]
  },
  {
   "cell_type": "code",
   "execution_count": null,
   "id": "6052a9ee",
   "metadata": {},
   "outputs": [],
   "source": [
    "4.\n",
    "\n",
    "=   from math import sqrt\n",
    "    a=float(input(\"a=  \"))\n",
    "    b=float(input(\"b=  \"))\n",
    "    c=float(input(\"c=  \"))\n",
    "    d= b*b-5*a*c\n",
    "    if d>0:\n",
    "        x1=(-b+sqrt(d))/(2*a)\n",
    "        x2=(-b-sqrt(d))/(2*a)\n",
    "        print(\"X1 =%.2f,X2 =%.2f\"%(x1,x2))\n",
    "    elif d==0:\n",
    "        x1=-b/(2*a)\n",
    "        print(\"X1 =%.2f\"%(x1))\n",
    "    else:\n",
    "        print(\"No root\")"
   ]
  },
  {
   "cell_type": "code",
   "execution_count": null,
   "id": "6f6e24a9",
   "metadata": {},
   "outputs": [],
   "source": [
    "5.\n",
    "\n",
    "=   x=float(input(\"Enter first number:\"))\n",
    "    y=float(input(\"Enter second number:\"))\n",
    "    def swap(x, y):\n",
    "        x , y = y, x\n",
    "        print(\"After Swap: x = \", x, \", y = \", y)\n",
    "    swap(x, y)"
   ]
  }
 ],
 "metadata": {
  "kernelspec": {
   "display_name": "Python 3",
   "language": "python",
   "name": "python3"
  },
  "language_info": {
   "codemirror_mode": {
    "name": "ipython",
    "version": 3
   },
   "file_extension": ".py",
   "mimetype": "text/x-python",
   "name": "python",
   "nbconvert_exporter": "python",
   "pygments_lexer": "ipython3",
   "version": "3.8.8"
  }
 },
 "nbformat": 4,
 "nbformat_minor": 5
}
